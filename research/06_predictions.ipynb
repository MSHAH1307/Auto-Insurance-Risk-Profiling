{
 "cells": [
  {
   "cell_type": "code",
   "execution_count": 1,
   "metadata": {},
   "outputs": [],
   "source": [
    "import os"
   ]
  },
  {
   "cell_type": "code",
   "execution_count": 2,
   "metadata": {},
   "outputs": [
    {
     "data": {
      "text/plain": [
       "'c:\\\\Users\\\\KUNAL MEHTA\\\\Desktop\\\\Data Science Training\\\\Projects\\\\Auto-Insurance-Risk-Profiling\\\\research'"
      ]
     },
     "execution_count": 2,
     "metadata": {},
     "output_type": "execute_result"
    }
   ],
   "source": [
    "%pwd"
   ]
  },
  {
   "cell_type": "code",
   "execution_count": 3,
   "metadata": {},
   "outputs": [],
   "source": [
    "os.chdir('../')"
   ]
  },
  {
   "cell_type": "code",
   "execution_count": 4,
   "metadata": {},
   "outputs": [
    {
     "data": {
      "text/plain": [
       "'c:\\\\Users\\\\KUNAL MEHTA\\\\Desktop\\\\Data Science Training\\\\Projects\\\\Auto-Insurance-Risk-Profiling'"
      ]
     },
     "execution_count": 4,
     "metadata": {},
     "output_type": "execute_result"
    }
   ],
   "source": [
    "%pwd"
   ]
  },
  {
   "cell_type": "code",
   "execution_count": 5,
   "metadata": {},
   "outputs": [],
   "source": [
    "from dataclasses import dataclass\n",
    "from pathlib import Path\n",
    "\n",
    "\n",
    "@dataclass(frozen=True)\n",
    "class PredictionsConfig:\n",
    "    root_dir: Path\n",
    "    test_data_path: Path\n",
    "    threshold_path: Path\n",
    "    class_model_path: Path\n",
    "    reg_model_path: Path\n",
    "    potential_customers_data_path: Path\n",
    "    potential_customers_with_predictions_data_path: Path\n"
   ]
  },
  {
   "cell_type": "code",
   "execution_count": 6,
   "metadata": {},
   "outputs": [],
   "source": [
    "from AutoInsurance.constants import *\n",
    "from AutoInsurance.utils.common import read_yaml, create_directories, save_json"
   ]
  },
  {
   "cell_type": "code",
   "execution_count": 7,
   "metadata": {},
   "outputs": [],
   "source": [
    "class ConfigurationManager:\n",
    "    def __init__(\n",
    "        self,\n",
    "        config_filepath = CONFIG_FILE_PATH,\n",
    "        params_filepath = PARAMS_FILE_PATH,\n",
    "        schema_filepath = SCHEMA_FILE_PATH):\n",
    "\n",
    "        self.config = read_yaml(config_filepath)\n",
    "        self.params = read_yaml(params_filepath)\n",
    "        self.schema = read_yaml(schema_filepath)\n",
    "\n",
    "        create_directories([self.config.artifacts_root])\n",
    "\n",
    "    def get_predictions_config(self) -> PredictionsConfig:\n",
    "        config = self.config.predictions\n",
    "        predictions_config =  PredictionsConfig(\n",
    "            root_dir = Path(config.root_dir),\n",
    "            threshold_path = Path(config.threshold_path),\n",
    "            test_data_path = Path(config.test_data_path),\n",
    "            class_model_path = Path(config.class_model_path),\n",
    "            reg_model_path = Path(config.reg_model_path),\n",
    "            potential_customers_data_path = Path(config.potential_customers_data_path)\n",
    "            potential_customers_with_predictions_data_path = Path(config.potential_customers_with_predictions_data)\n",
    "        )\n",
    "    \n",
    "        return predictions_config"
   ]
  },
  {
   "cell_type": "code",
   "execution_count": 23,
   "metadata": {},
   "outputs": [],
   "source": [
    "import joblib \n",
    "import pandas as pd\n",
    "from AutoInsurance.utils.common import load_json\n",
    "import numpy as np\n",
    "from AutoInsurance.utils.common import logger"
   ]
  },
  {
   "cell_type": "code",
   "execution_count": 27,
   "metadata": {},
   "outputs": [],
   "source": [
    "class Predictions:\n",
    "    def __init__(self, config: PredictionsConfig):\n",
    "        self.config = config\n",
    "\n",
    "    def get_predictions(self):\n",
    "\n",
    "        logger.info(f\"class_model_path: {self.config.class_model_path}\")\n",
    "        logger.info(f\"reg_model_path: {self.config.reg_model_path}\")\n",
    "        logger.info(f\"test_data_path: {self.config.test_data_path}\")\n",
    "        logger.info(f\"threshold_path: {self.config.threshold_path}\")\n",
    "        logger.info(f\"potential_customers_data_path: {self.config.potential_customers_data_path}\")\n",
    "\n",
    "\n",
    "        class_model = joblib.load(Path(self.config.class_model_path))\n",
    "        reg_model = joblib.load(Path(self.config.reg_model_path))\n",
    "\n",
    "        test_data = pd.read_csv(Path(self.config.test_data_path))\n",
    "        class_predictions_probs = class_model.predict_proba(test_data)[:, 1]\n",
    "\n",
    "        # print(Path(self.config.threshold_path))\n",
    "\n",
    "        metrics = load_json(Path(self.config.threshold_path))\n",
    "        class_predictions = (class_predictions_probs >= metrics.optimal_threshold).astype(int)\n",
    "\n",
    "        reg_predictions = reg_model.predict(test_data)\n",
    "        reg_predictions = np.expm1(reg_predictions)\n",
    "\n",
    "        potential_customers_data = pd.read_csv(Path(self.config.potential_customers_data_path))\n",
    "        potential_customers_data['claim_probability'] = class_predictions_probs\n",
    "        potential_customers_data['claim'] = class_predictions\n",
    "        potential_customers_data['claim_amount'] = reg_predictions\n",
    "\n",
    "        \n",
    "        # print(potential_customers_data.head())\n",
    "        \n",
    "\n",
    "        # potential_customers_data.to_csv(Path(self.config.potential_customers_data_path), index = False)\n"
   ]
  },
  {
   "cell_type": "code",
   "execution_count": 28,
   "metadata": {},
   "outputs": [
    {
     "name": "stdout",
     "output_type": "stream",
     "text": [
      "[2024-05-23 16:28:38,191: INFO: common: yaml file: config\\config.yaml loaded successfully]\n",
      "[2024-05-23 16:28:38,194: INFO: common: yaml file: params.yaml loaded successfully]\n",
      "[2024-05-23 16:28:38,198: INFO: common: yaml file: schema.yaml loaded successfully]\n",
      "[2024-05-23 16:28:38,200: INFO: common: created directory at: artifacts]\n",
      "[2024-05-23 16:28:38,201: INFO: 4178703687: class_model_path: artifacts\\model_trainer\\class_model.joblib]\n",
      "[2024-05-23 16:28:38,201: INFO: 4178703687: reg_model_path: artifacts\\model_trainer\\reg_model.joblib]\n",
      "[2024-05-23 16:28:38,202: INFO: 4178703687: test_data_path: artifacts\\data_transformation\\Processed_test_data.csv]\n",
      "[2024-05-23 16:28:38,202: INFO: 4178703687: threshold_path: artifacts\\model_evaluation\\class_metrics.json]\n",
      "[2024-05-23 16:28:38,203: INFO: 4178703687: potential_customers_data_path: artifacts\\data_transformation\\potential_customers.csv]\n",
      "[2024-05-23 16:28:38,293: INFO: common: json file loaded succesfully from: artifacts\\model_evaluation\\class_metrics.json]\n",
      "   quote_number gender  agecat date_of_birth  credit_score area  \\\n",
      "0      29323463      F       4    1968-04-14         750.0    C   \n",
      "1      16732441      M       2    1984-10-04         567.0    F   \n",
      "2      68744228      M       4    1962-11-30         378.0    D   \n",
      "3      30875047      F       3    1973-05-17         807.0    E   \n",
      "4      37049210      M       6    1945-10-02         844.0    C   \n",
      "\n",
      "   traffic_index  veh_age veh_body  veh_value  age  claim_probability  claim  \\\n",
      "0          124.5        2    HBACK   0.741937   49           0.027576      0   \n",
      "1          118.0        3    STNWG   1.124605   33           0.367271      1   \n",
      "2          111.4        3    HDTOP   1.210154   55           0.797296      1   \n",
      "3           42.0        4      UTE   1.088225   44           0.014700      0   \n",
      "4          111.0        1    HBACK   1.088225   72           0.125497      0   \n",
      "\n",
      "   claim_amount  \n",
      "0    171.063570  \n",
      "1    416.014270  \n",
      "2   9736.273836  \n",
      "3    389.961107  \n",
      "4    829.758198  \n"
     ]
    }
   ],
   "source": [
    "config = ConfigurationManager()\n",
    "predictions_config = config.get_predictions_config()\n",
    "predictions_config = Predictions(config = predictions_config)\n",
    "predictions_config.get_predictions()"
   ]
  }
 ],
 "metadata": {
  "kernelspec": {
   "display_name": "Python 3",
   "language": "python",
   "name": "python3"
  },
  "language_info": {
   "codemirror_mode": {
    "name": "ipython",
    "version": 3
   },
   "file_extension": ".py",
   "mimetype": "text/x-python",
   "name": "python",
   "nbconvert_exporter": "python",
   "pygments_lexer": "ipython3",
   "version": "3.9.0"
  }
 },
 "nbformat": 4,
 "nbformat_minor": 2
}
